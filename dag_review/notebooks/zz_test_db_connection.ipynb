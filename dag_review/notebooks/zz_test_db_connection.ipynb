{
 "cells": [
  {
   "cell_type": "code",
   "execution_count": 1,
   "id": "088d0331-8832-4e85-b840-68f003ae5f8b",
   "metadata": {},
   "outputs": [
    {
     "name": "stdout",
     "output_type": "stream",
     "text": [
      "Tables in database: ['comorbidities', 'studies', 'objectives', 'eligibility_criteria', 'confounders', 'outcomes', 'exposures', 'dag_nodes', 'dag_edges', 'validation_status']\n"
     ]
    }
   ],
   "source": [
    "from sqlalchemy import create_engine, inspect\n",
    "\n",
    "# Replace with your actual credentials\n",
    "user = 'xxxx'\n",
    "password = 'xxxx!'\n",
    "host = 'localhost'\n",
    "port = '5432'\n",
    "database = 'dag_review_db'\n",
    "\n",
    "engine = create_engine(f'postgresql+psycopg2://{user}:{password}@{host}:{port}/{database}')\n",
    "\n",
    "# Test connection and list tables\n",
    "inspector = inspect(engine)\n",
    "print(\"Tables in database:\", inspector.get_table_names())"
   ]
  },
  {
   "cell_type": "code",
   "execution_count": null,
   "id": "38841759-61d0-4cd7-a373-898986da6e2c",
   "metadata": {},
   "outputs": [],
   "source": []
  }
 ],
 "metadata": {
  "kernelspec": {
   "display_name": "Python 3 (ipykernel)",
   "language": "python",
   "name": "python3"
  },
  "language_info": {
   "codemirror_mode": {
    "name": "ipython",
    "version": 3
   },
   "file_extension": ".py",
   "mimetype": "text/x-python",
   "name": "python",
   "nbconvert_exporter": "python",
   "pygments_lexer": "ipython3",
   "version": "3.10.16"
  }
 },
 "nbformat": 4,
 "nbformat_minor": 5
}
